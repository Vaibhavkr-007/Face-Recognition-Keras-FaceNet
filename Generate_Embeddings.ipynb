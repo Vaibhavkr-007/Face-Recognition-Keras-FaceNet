{
 "cells": [
  {
   "cell_type": "code",
   "execution_count": 4,
   "id": "8468c3c4",
   "metadata": {},
   "outputs": [
    {
     "name": "stderr",
     "output_type": "stream",
     "text": [
      "2025-05-31 18:32:55.796471: I tensorflow/core/util/port.cc:153] oneDNN custom operations are on. You may see slightly different numerical results due to floating-point round-off errors from different computation orders. To turn them off, set the environment variable `TF_ENABLE_ONEDNN_OPTS=0`.\n",
      "2025-05-31 18:32:55.960840: E external/local_xla/xla/stream_executor/cuda/cuda_fft.cc:467] Unable to register cuFFT factory: Attempting to register factory for plugin cuFFT when one has already been registered\n",
      "WARNING: All log messages before absl::InitializeLog() is called are written to STDERR\n",
      "E0000 00:00:1748696576.022165   15905 cuda_dnn.cc:8579] Unable to register cuDNN factory: Attempting to register factory for plugin cuDNN when one has already been registered\n",
      "E0000 00:00:1748696576.039277   15905 cuda_blas.cc:1407] Unable to register cuBLAS factory: Attempting to register factory for plugin cuBLAS when one has already been registered\n",
      "W0000 00:00:1748696576.165091   15905 computation_placer.cc:177] computation placer already registered. Please check linkage and avoid linking the same target more than once.\n",
      "W0000 00:00:1748696576.165117   15905 computation_placer.cc:177] computation placer already registered. Please check linkage and avoid linking the same target more than once.\n",
      "W0000 00:00:1748696576.165119   15905 computation_placer.cc:177] computation placer already registered. Please check linkage and avoid linking the same target more than once.\n",
      "W0000 00:00:1748696576.165120   15905 computation_placer.cc:177] computation placer already registered. Please check linkage and avoid linking the same target more than once.\n",
      "2025-05-31 18:32:56.180311: I tensorflow/core/platform/cpu_feature_guard.cc:210] This TensorFlow binary is optimized to use available CPU instructions in performance-critical operations.\n",
      "To enable the following instructions: AVX2 AVX512F AVX512_VNNI FMA, in other operations, rebuild TensorFlow with the appropriate compiler flags.\n"
     ]
    }
   ],
   "source": [
    "import os\n",
    "import pickle\n",
    "from keras_facenet import FaceNet"
   ]
  },
  {
   "cell_type": "code",
   "execution_count": 5,
   "id": "93cb172a",
   "metadata": {},
   "outputs": [
    {
     "name": "stderr",
     "output_type": "stream",
     "text": [
      "I0000 00:00:1748696638.305182   15905 gpu_device.cc:2019] Created device /job:localhost/replica:0/task:0/device:GPU:0 with 1937 MB memory:  -> device: 0, name: NVIDIA GeForce RTX 3050 Laptop GPU, pci bus id: 0000:01:00.0, compute capability: 8.6\n"
     ]
    }
   ],
   "source": [
    "embedder = FaceNet()"
   ]
  },
  {
   "cell_type": "code",
   "execution_count": 6,
   "id": "ae9429df",
   "metadata": {},
   "outputs": [],
   "source": [
    "images_dir = r\"/home/phoenix/ProjDD/Projects/P05_MobileNet_FaceRecognition/images\"\n",
    "embedding_dir = r\"/home/phoenix/ProjDD/Projects/P05_MobileNet_FaceRecognition/embeddings\""
   ]
  },
  {
   "cell_type": "code",
   "execution_count": 7,
   "id": "75c5cb47",
   "metadata": {},
   "outputs": [],
   "source": [
    "def create_embeddings():\n",
    "    for person_name in os.listdir(images_dir):\n",
    "        person_dir = os.path.join(images_dir, person_name)\n",
    "\n",
    "        if os.path.isdir(person_dir):\n",
    "            embeddings = []\n",
    "\n",
    "            for image_name in os.listdir(person_dir):\n",
    "                image_path = os.path.join(person_dir, image_name)\n",
    "                detections = embedder.extract(image_path, threshold=0.95)\n",
    "\n",
    "                if detections:\n",
    "                    embedding = detections[0]['embedding']\n",
    "                    embeddings.append(embedding)\n",
    "                    print(f\"Embedding created for {person_name} from image {image_name}\")\n",
    "                else:\n",
    "                    print(f\"No face detected in image {image_name} for {person_name}\")\n",
    "\n",
    "            if embeddings:\n",
    "                average_embedding = sum(embeddings) / len(embeddings)\n",
    "                embedding_path = os.path.join(embedding_dir, f\"{person_name}.pkl\")\n",
    "                with open(embedding_path, \"wb\") as f:\n",
    "                    pickle.dump(average_embedding, f)\n",
    "                print(f\"Saved embedding for {person_name} at {embedding_path}\")\n",
    "            else:\n",
    "                print(f\"No valid embeddings for {person_name}\")"
   ]
  },
  {
   "cell_type": "code",
   "execution_count": 9,
   "id": "16a8f3ed",
   "metadata": {},
   "outputs": [
    {
     "name": "stdout",
     "output_type": "stream",
     "text": [
      "\u001b[1m1/1\u001b[0m \u001b[32m━━━━━━━━━━━━━━━━━━━━\u001b[0m\u001b[37m\u001b[0m \u001b[1m0s\u001b[0m 37ms/step\n",
      "Embedding created for person-1 from image IMG20241106205428.jpg\n",
      "\u001b[1m1/1\u001b[0m \u001b[32m━━━━━━━━━━━━━━━━━━━━\u001b[0m\u001b[37m\u001b[0m \u001b[1m0s\u001b[0m 39ms/step\n",
      "Embedding created for person-1 from image IMG20241106205443.jpg\n",
      "Saved embedding for person-1 at /home/phoenix/ProjDD/Projects/P05_MobileNet_FaceRecognition/embeddings/person-1.pkl\n",
      "\u001b[1m1/1\u001b[0m \u001b[32m━━━━━━━━━━━━━━━━━━━━\u001b[0m\u001b[37m\u001b[0m \u001b[1m0s\u001b[0m 40ms/step\n",
      "Embedding created for person-2 from image IMG20241106205504.jpg\n",
      "Saved embedding for person-2 at /home/phoenix/ProjDD/Projects/P05_MobileNet_FaceRecognition/embeddings/person-2.pkl\n",
      "\u001b[1m1/1\u001b[0m \u001b[32m━━━━━━━━━━━━━━━━━━━━\u001b[0m\u001b[37m\u001b[0m \u001b[1m0s\u001b[0m 39ms/step\n",
      "Embedding created for person-3 from image IMG20241003020112.jpg\n",
      "Saved embedding for person-3 at /home/phoenix/ProjDD/Projects/P05_MobileNet_FaceRecognition/embeddings/person-3.pkl\n"
     ]
    }
   ],
   "source": [
    "if __name__ == \"__main__\":\n",
    "    create_embeddings()"
   ]
  },
  {
   "cell_type": "code",
   "execution_count": null,
   "id": "aae07e2e",
   "metadata": {},
   "outputs": [],
   "source": []
  }
 ],
 "metadata": {
  "kernelspec": {
   "display_name": "Python (ml)",
   "language": "python",
   "name": "ml"
  },
  "language_info": {
   "codemirror_mode": {
    "name": "ipython",
    "version": 3
   },
   "file_extension": ".py",
   "mimetype": "text/x-python",
   "name": "python",
   "nbconvert_exporter": "python",
   "pygments_lexer": "ipython3",
   "version": "3.11.11"
  }
 },
 "nbformat": 4,
 "nbformat_minor": 5
}
